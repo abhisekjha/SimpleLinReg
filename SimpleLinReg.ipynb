{
 "cells": [
  {
   "cell_type": "code",
   "execution_count": 1,
   "id": "9b008615-eafb-49da-a17f-d822af85db6f",
   "metadata": {},
   "outputs": [
    {
     "name": "stdout",
     "output_type": "stream",
     "text": [
      "Training complete.\n",
      "Model evaluation (MSE): 1.1877973513076059\n"
     ]
    }
   ],
   "source": [
    "import numpy as np\n",
    "\n",
    "#Define the Linear Regression Model\n",
    "class LinearRegression:\n",
    "    def __init__(self):\n",
    "        self.weights = None\n",
    "\n",
    "    def predict(self, X):\n",
    "        return np.dot(X, self.weights)\n",
    "\n",
    "    def loss(self, y_true, y_pred):\n",
    "        return np.mean((y_true - y_pred) ** 2)\n",
    "\n",
    "#Training Function\n",
    "def train(model, X_train, y_train, learning_rate=0.01, epochs=100):\n",
    "    n_samples, n_features = X_train.shape\n",
    "    model.weights = np.zeros(n_features)\n",
    "    for _ in range(epochs):\n",
    "        y_pred = model.predict(X_train)\n",
    "        dw = -(2/n_samples) * np.dot(X_train.T, (y_train - y_pred))\n",
    "        model.weights -= learning_rate * dw\n",
    "\n",
    "# Evaluation Function\n",
    "def evaluate(model, X_test, y_test):\n",
    "    y_pred = model.predict(X_test)\n",
    "    return model.loss(y_test, y_pred)\n",
    "\n",
    "# creating a synthetic dataset\n",
    "X = np.random.rand(100, 1)  # 100 samples, 1 feature\n",
    "y = 2 * X.squeeze() + 1 + np.random.randn(100) * 0.05  # Linear relation with noise\n",
    "# Split the data into training and test sets\n",
    "split_index = int(len(X) * 0.8)\n",
    "X_train, X_test = X[:split_index], X[split_index:]\n",
    "y_train, y_test = y[:split_index], y[split_index:]\n",
    "\n",
    "# Step 6: Train and Evaluate the Model\n",
    "model = LinearRegression()\n",
    "train(model, X_train, y_train)\n",
    "print(\"Training complete.\")\n",
    "\n",
    "# Evaluate the model\n",
    "evaluation = evaluate(model, X_test, y_test)\n",
    "print(f\"Model evaluation (MSE): {evaluation}\")\n"
   ]
  },
  {
   "cell_type": "code",
   "execution_count": null,
   "id": "df51dd65-e1bf-474f-a33a-f54d243efd9a",
   "metadata": {},
   "outputs": [],
   "source": []
  }
 ],
 "metadata": {
  "kernelspec": {
   "display_name": "Python 3 (ipykernel)",
   "language": "python",
   "name": "python3"
  },
  "language_info": {
   "codemirror_mode": {
    "name": "ipython",
    "version": 3
   },
   "file_extension": ".py",
   "mimetype": "text/x-python",
   "name": "python",
   "nbconvert_exporter": "python",
   "pygments_lexer": "ipython3",
   "version": "3.11.7"
  }
 },
 "nbformat": 4,
 "nbformat_minor": 5
}
